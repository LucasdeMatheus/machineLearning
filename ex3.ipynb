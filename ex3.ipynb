{
 "cells": [
  {
   "cell_type": "markdown",
   "metadata": {},
   "source": [
    "1 Utilize o algoritmo K-Means para agrupar os clientes em 2 clusters.\n",
    "\n",
    "2 Visualize os clusters e os centroides em um gráfico.\n",
    "\n",
    "3 Responda: Qual grupo contém os clientes que gastam mais no Departamento 1?"
   ]
  },
  {
   "cell_type": "code",
   "execution_count": 22,
   "metadata": {},
   "outputs": [],
   "source": [
    "# ----------------------- bibliotecas ----------------------- \n",
    "import numpy as np\n",
    "from sklearn.cluster import KMeans\n",
    "import matplotlib.pyplot as plt\n",
    "from matplotlib.table import Table\n",
    "import pandas as pd\n"
   ]
  },
  {
   "cell_type": "code",
   "execution_count": 23,
   "metadata": {},
   "outputs": [
    {
     "data": {
      "image/png": "[encoded data removed]",
      "text/plain": [
       "<Figure size 600x300 with 1 Axes>"
      ]
     },
     "metadata": {},
     "output_type": "display_data"
    }
   ],
   "source": [
    "# -------------------------------------- ilustrando tabela --------------------------------------\n",
    "# Dados dos clientes\n",
    "dados = {\n",
    "    \"Cliente\": [\"João\", \"Maria\", \"Pedro\", \"Ana\", \"Carla\"],\n",
    "    \"Departamento 1 (R$ mil)\": [3, 2, 7, 6, 4],\n",
    "    \"Departamento 2 (R$ mil)\": [8, 6, 2, 1, 7],\n",
    "}\n",
    "\n",
    "# Criando DataFrame\n",
    "df = pd.DataFrame(dados)\n",
    "\n",
    "# Exibindo a tabela\n",
    "fig, ax = plt.subplots(figsize=(6, 3))\n",
    "ax.axis('tight')\n",
    "ax.axis('off')\n",
    "table = ax.table(cellText=df.values, colLabels=df.columns, cellLoc='center', loc='center')\n",
    "table.auto_set_font_size(False)\n",
    "table.set_fontsize(10)\n",
    "table.auto_set_column_width([0, 1, 2, 3])\n",
    "\n",
    "plt.show()\n"
   ]
  },
  {
   "cell_type": "code",
   "execution_count": 24,
   "metadata": {},
   "outputs": [
    {
     "name": "stdout",
     "output_type": "stream",
     "text": [
      "[1 1 0 0 1]\n"
     ]
    }
   ],
   "source": [
    "# ---------------------------- Obtendo resultados ----------------------------\n",
    "\n",
    "clientes = np.array([\n",
    "    [3, 8],   # João\n",
    "    [2, 6],   # Maria\n",
    "    [7, 2],   # Pedro\n",
    "    [6, 1],   # Ana\n",
    "    [4, 7]    # Carla\n",
    "])\n",
    "kmeans = KMeans(n_clusters=2, random_state=0)\n",
    "\n",
    "kmeans.fit(clientes)\n",
    "\n",
    "labels = kmeans.labels_\n",
    "centroids = kmeans.cluster_centers_\n",
    "\n",
    "print(labels)\n"
   ]
  },
  {
   "cell_type": "markdown",
   "metadata": {},
   "source": [
    "\n",
    "1 # João\n",
    "\n",
    "1 # Maria\n",
    "\n",
    "0 # Pedro\n",
    "\n",
    "0 # Ana\n",
    "\n",
    "1 # Carla\n",
    "\n",
    "cluster 1: Que mais compram no departamento 2\n",
    "\n",
    "cluster 0: que mais compram no departamento 1"
   ]
  }
 ],
 "metadata": {
  "kernelspec": {
   "display_name": "Python 3",
   "language": "python",
   "name": "python3"
  },
  "language_info": {
   "codemirror_mode": {
    "name": "ipython",
    "version": 3
   },
   "file_extension": ".py",
   "mimetype": "text/x-python",
   "name": "python",
   "nbconvert_exporter": "python",
   "pygments_lexer": "ipython3",
   "version": "3.12.2"
  }
 },
 "nbformat": 4,
 "nbformat_minor": 2
}
